{
 "cells": [
  {
   "cell_type": "code",
   "execution_count": null,
   "metadata": {},
   "outputs": [],
   "source": [
    "import os\n",
    "import matplotlib.pyplot as plt\n",
    "from PIL import Image\n",
    "\n",
    "# Define the directories\n",
    "gt_dir = '/path/to/gt'\n",
    "renders_dir = '/path/to/renders'\n",
    "\n",
    "# Get the list of image filenames in the 'gt' directory\n",
    "gt_images = sorted(os.listdir(gt_dir))\n",
    "\n",
    "# Select the first 4 image filenames\n",
    "selected_images = gt_images[:4]\n",
    "\n",
    "# Create a figure for the plots\n",
    "fig, axs = plt.subplots(4, 2, figsize=(10, 20))\n",
    "\n",
    "for i, img_name in enumerate(selected_images):\n",
    "    # Load the images\n",
    "    gt_img = Image.open(os.path.join(gt_dir, img_name))\n",
    "    render_img = Image.open(os.path.join(renders_dir, img_name))\n",
    "\n",
    "    # Plot the 'gt' image\n",
    "    axs[i, 0].imshow(gt_img)\n",
    "    axs[i, 0].set_title('GT: ' + img_name)\n",
    "    axs[i, 0].axis('off')\n",
    "\n",
    "    # Plot the 'render' image\n",
    "    axs[i, 1].imshow(render_img)\n",
    "    axs[i, 1].set_title('Render: ' + img_name)\n",
    "    axs[i, 1].axis('off')\n",
    "\n",
    "# Display the plot\n",
    "plt.tight_layout()\n",
    "plt.show()\n"
   ]
  }
 ],
 "metadata": {
  "kernelspec": {
   "display_name": "nerfstudio",
   "language": "python",
   "name": "python3"
  },
  "language_info": {
   "name": "python",
   "version": "3.8.16"
  },
  "orig_nbformat": 4
 },
 "nbformat": 4,
 "nbformat_minor": 2
}
